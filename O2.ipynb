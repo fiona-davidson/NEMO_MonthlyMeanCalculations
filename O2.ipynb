{
 "cells": [
  {
   "cell_type": "markdown",
   "id": "335ddfa4",
   "metadata": {},
   "source": [
    "This notebook calculates monthly means of O2 for model output NETCDF files. "
   ]
  },
  {
   "cell_type": "code",
   "execution_count": 1,
   "id": "692246f3",
   "metadata": {},
   "outputs": [],
   "source": [
    "import h5py\n",
    "import netCDF4\n",
    "from netCDF4 import Dataset\n",
    "import numpy as np\n",
    "import numpy.ma as ma\n",
    "import glob"
   ]
  },
  {
   "cell_type": "code",
   "execution_count": 2,
   "id": "0e14a8b2",
   "metadata": {},
   "outputs": [
    {
     "name": "stdout",
     "output_type": "stream",
     "text": [
      "73\n"
     ]
    },
    {
     "name": "stderr",
     "output_type": "stream",
     "text": [
      "/tmp/ipykernel_532622/2690282825.py:12: DeprecationWarning: `np.bool` is a deprecated alias for the builtin `bool`. To silence this warning, use `bool` by itself. Doing this will not modify any behavior and is safe. If you specifically wanted the numpy scalar type, use `np.bool_` here.\n",
      "Deprecated in NumPy 1.20; for more details and guidance: https://numpy.org/devdocs/release/1.20.0-notes.html#deprecations\n",
      "  X = data.variables[variable][:]\n"
     ]
    },
    {
     "name": "stdout",
     "output_type": "stream",
     "text": [
      "(1, 75, 735, 528)\n",
      "75 735 528\n",
      "-2.1205952 26.929783 1.8041726272738507 0.0\n"
     ]
    },
    {
     "name": "stderr",
     "output_type": "stream",
     "text": [
      "/home/fid000/WORK7/software/anaconda3/envs/pypkg/lib/python3.8/site-packages/numpy/core/fromnumeric.py:758: UserWarning: Warning: 'partition' will ignore the 'mask' of the MaskedArray.\n",
      "  a.partition(kth, axis=axis, kind=kind, order=order)\n"
     ]
    }
   ],
   "source": [
    "runid='CREG025_LIM3_CANOE-VJC014l'\n",
    "#variable='salt'; vunit='psu'\n",
    "variable='temp'; vunit='degree C'\n",
    "flist = glob.glob(\"/gpfs/fs7/dfo/hpcmc/comda/stod000/RUN_DIR/Auto-restart/CREG025_LIM3_CANOE/\"+runid+\"/CDF/\"+runid+\"_5d_grid_T_2017*.nc\")\n",
    "flist.sort()\n",
    "N5=len(flist)\n",
    "print(N5)\n",
    "\n",
    "# open an arbitrary file to get basic dimension information\n",
    "filein = flist[0]\n",
    "data = Dataset(filein, \"r\", format=\"NETCDF4\")\n",
    "X = data.variables[variable][:]\n",
    "print(np.shape(X))\n",
    "[nz,ny,nx] = np.shape(X.squeeze())\n",
    "print(nz,ny,nx)\n",
    "print(np.min(X),np.max(X),np.mean(X),np.median(X))\n"
   ]
  },
  {
   "cell_type": "code",
   "execution_count": 3,
   "id": "ee8768bd",
   "metadata": {},
   "outputs": [
    {
     "name": "stderr",
     "output_type": "stream",
     "text": [
      "/tmp/ipykernel_532622/396071799.py:7: DeprecationWarning: `np.bool` is a deprecated alias for the builtin `bool`. To silence this warning, use `bool` by itself. Doing this will not modify any behavior and is safe. If you specifically wanted the numpy scalar type, use `np.bool_` here.\n",
      "Deprecated in NumPy 1.20; for more details and guidance: https://numpy.org/devdocs/release/1.20.0-notes.html#deprecations\n",
      "  M = data.variables['tmask'][:].squeeze()\n",
      "/tmp/ipykernel_532622/396071799.py:13: DeprecationWarning: `np.bool` is a deprecated alias for the builtin `bool`. To silence this warning, use `bool` by itself. Doing this will not modify any behavior and is safe. If you specifically wanted the numpy scalar type, use `np.bool_` here.\n",
      "Deprecated in NumPy 1.20; for more details and guidance: https://numpy.org/devdocs/release/1.20.0-notes.html#deprecations\n",
      "  xlon = data.variables['nav_lon'][:]\n"
     ]
    },
    {
     "name": "stdout",
     "output_type": "stream",
     "text": [
      "(75, 735, 528)\n",
      "0 1 0.3011297327011613 0.0\n",
      "(735, 528)\n",
      "(735, 528)\n",
      "[ 0.5  1.5  2.5  3.5  4.5  5.5  6.5  7.5  8.5  9.5 10.5 11.5]\n",
      "<class 'numpy.ndarray'>\n"
     ]
    },
    {
     "name": "stderr",
     "output_type": "stream",
     "text": [
      "/tmp/ipykernel_532622/396071799.py:14: DeprecationWarning: `np.bool` is a deprecated alias for the builtin `bool`. To silence this warning, use `bool` by itself. Doing this will not modify any behavior and is safe. If you specifically wanted the numpy scalar type, use `np.bool_` here.\n",
      "Deprecated in NumPy 1.20; for more details and guidance: https://numpy.org/devdocs/release/1.20.0-notes.html#deprecations\n",
      "  xlat = data.variables['nav_lat'][:]\n",
      "/tmp/ipykernel_532622/396071799.py:15: DeprecationWarning: `np.bool` is a deprecated alias for the builtin `bool`. To silence this warning, use `bool` by itself. Doing this will not modify any behavior and is safe. If you specifically wanted the numpy scalar type, use `np.bool_` here.\n",
      "Deprecated in NumPy 1.20; for more details and guidance: https://numpy.org/devdocs/release/1.20.0-notes.html#deprecations\n",
      "  xdpth = data.variables['nav_lev'][:]\n"
     ]
    }
   ],
   "source": [
    "# get tmask information\n",
    "# tmask has 1's over ocean and zeros over land\n",
    "# tmask has a t dimension but only 1 data point\n",
    "\n",
    "filemesh='/gpfs/fs7/dfo/hpcmc/comda/stod000/CREG25/CREG025_mesh_mask.nc'\n",
    "data = Dataset(filemesh, \"r\", format=\"NETCDF4\")\n",
    "M = data.variables['tmask'][:].squeeze()\n",
    "print(np.shape(M))\n",
    "print(np.min(M),np.max(M),np.mean(M),np.median(M))\n",
    "\n",
    "# get axis data (better to use data in tmask file because model o/p files have 0 over land in nav_lon, nav_lat arrays)\n",
    "\n",
    "xlon = data.variables['nav_lon'][:]\n",
    "xlat = data.variables['nav_lat'][:]\n",
    "xdpth = data.variables['nav_lev'][:]\n",
    "#depth[:]=xdpth\n",
    "print(np.shape(xlon))\n",
    "print(np.shape(xlat))\n",
    "#print(np.shape(depth))#print(np.shape(xdpth))\n",
    "\n",
    "t12=np.array(np.arange(12)+0.5)\n",
    "print(t12)\n",
    "print(type(t12))\n"
   ]
  },
  {
   "cell_type": "code",
   "execution_count": 4,
   "id": "73be71ec",
   "metadata": {},
   "outputs": [
    {
     "name": "stdout",
     "output_type": "stream",
     "text": [
      "{'jan': (0, 6, 1, 31), 'feb': (4, 4, 4, 28), 'mar': (1, 6, 0, 31), 'apr': (0, 6, 0, 30), 'may': (0, 6, 1, 31), 'jun': (4, 5, 1, 30), 'jul': (4, 5, 2, 31), 'aug': (3, 5, 3, 31), 'sep': (2, 5, 3, 30), 'oct': (2, 5, 4, 31), 'nov': (1, 5, 4, 30), 'dec': (1, 6, 0, 31)}\n"
     ]
    }
   ],
   "source": [
    "# [xb, x5, xa, xtot] \n",
    "# xb = number of days at beginning to be added from file that overlaps previous month (e.g., 4 for Feb as file starts on Jan 31)\n",
    "# xa = number of days at end to be added from file that overlaps next month (e.g., 1 for Jan)\n",
    "# x5 = number of full 5 day blocks to average (it's actually x5-1 if xb==0; see next cell)\n",
    "# xtot = number of days in the month\n",
    "\n",
    "timedata={\n",
    "    \"jan\": tuple([0, 6, 1, 31]),\n",
    "    \"feb\": tuple([4, 4, 4, 28]),\n",
    "    \"mar\": tuple([1, 6, 0, 31]),      \n",
    "    \"apr\": tuple([0, 6, 0, 30]),      \n",
    "    \"may\": tuple([0, 6, 1, 31]),      \n",
    "    \"jun\": tuple([4, 5, 1, 30]),\n",
    "    \"jul\": tuple([4, 5, 2, 31]),\n",
    "    \"aug\": tuple([3, 5, 3, 31]),\n",
    "    \"sep\": tuple([2, 5, 3, 30]),\n",
    "    \"oct\": tuple([2, 5, 4, 31]),\n",
    "    \"nov\": tuple([1, 5, 4, 30]),\n",
    "    \"dec\": tuple([1, 6, 0, 31])    \n",
    "    }\n",
    "\n",
    "print(timedata)\n"
   ]
  },
  {
   "cell_type": "code",
   "execution_count": 5,
   "id": "67a3c3e3",
   "metadata": {
    "scrolled": true
   },
   "outputs": [
    {
     "name": "stdout",
     "output_type": "stream",
     "text": [
      "CREG025_LIM3_CANOE-VJC016f\n",
      "0 6 1 31\n",
      "/gpfs/fs7/dfo/hpcmc/comda/stod000/RUN_DIR/Auto-restart/CREG025_LIM3_CANOE/CREG025_LIM3_CANOE-VJC016f/CDF/CREG025_LIM3_CANOE-VJC016f_5d_ptrc_T_20170101-20170105.nc\n"
     ]
    },
    {
     "name": "stderr",
     "output_type": "stream",
     "text": [
      "/tmp/ipykernel_532622/3677473921.py:40: DeprecationWarning: `np.bool` is a deprecated alias for the builtin `bool`. To silence this warning, use `bool` by itself. Doing this will not modify any behavior and is safe. If you specifically wanted the numpy scalar type, use `np.bool_` here.\n",
      "Deprecated in NumPy 1.20; for more details and guidance: https://numpy.org/devdocs/release/1.20.0-notes.html#deprecations\n",
      "  Y0 = data.variables[variable][:]\n"
     ]
    },
    {
     "name": "stdout",
     "output_type": "stream",
     "text": [
      "/gpfs/fs7/dfo/hpcmc/comda/stod000/RUN_DIR/Auto-restart/CREG025_LIM3_CANOE/CREG025_LIM3_CANOE-VJC016f/CDF/CREG025_LIM3_CANOE-VJC016f_5d_ptrc_T_20170106-20170110.nc\n"
     ]
    },
    {
     "name": "stderr",
     "output_type": "stream",
     "text": [
      "/tmp/ipykernel_532622/3677473921.py:55: DeprecationWarning: `np.bool` is a deprecated alias for the builtin `bool`. To silence this warning, use `bool` by itself. Doing this will not modify any behavior and is safe. If you specifically wanted the numpy scalar type, use `np.bool_` here.\n",
      "Deprecated in NumPy 1.20; for more details and guidance: https://numpy.org/devdocs/release/1.20.0-notes.html#deprecations\n",
      "  Y0 = data.variables[variable][:]\n"
     ]
    },
    {
     "name": "stdout",
     "output_type": "stream",
     "text": [
      "/gpfs/fs7/dfo/hpcmc/comda/stod000/RUN_DIR/Auto-restart/CREG025_LIM3_CANOE/CREG025_LIM3_CANOE-VJC016f/CDF/CREG025_LIM3_CANOE-VJC016f_5d_ptrc_T_20170111-20170115.nc\n",
      "/gpfs/fs7/dfo/hpcmc/comda/stod000/RUN_DIR/Auto-restart/CREG025_LIM3_CANOE/CREG025_LIM3_CANOE-VJC016f/CDF/CREG025_LIM3_CANOE-VJC016f_5d_ptrc_T_20170116-20170120.nc\n",
      "/gpfs/fs7/dfo/hpcmc/comda/stod000/RUN_DIR/Auto-restart/CREG025_LIM3_CANOE/CREG025_LIM3_CANOE-VJC016f/CDF/CREG025_LIM3_CANOE-VJC016f_5d_ptrc_T_20170121-20170125.nc\n",
      "/gpfs/fs7/dfo/hpcmc/comda/stod000/RUN_DIR/Auto-restart/CREG025_LIM3_CANOE/CREG025_LIM3_CANOE-VJC016f/CDF/CREG025_LIM3_CANOE-VJC016f_5d_ptrc_T_20170126-20170130.nc\n",
      "/gpfs/fs7/dfo/hpcmc/comda/stod000/RUN_DIR/Auto-restart/CREG025_LIM3_CANOE/CREG025_LIM3_CANOE-VJC016f/CDF/CREG025_LIM3_CANOE-VJC016f_5d_ptrc_T_20170131-20170204.nc\n"
     ]
    },
    {
     "name": "stderr",
     "output_type": "stream",
     "text": [
      "/tmp/ipykernel_532622/3677473921.py:64: DeprecationWarning: `np.bool` is a deprecated alias for the builtin `bool`. To silence this warning, use `bool` by itself. Doing this will not modify any behavior and is safe. If you specifically wanted the numpy scalar type, use `np.bool_` here.\n",
      "Deprecated in NumPy 1.20; for more details and guidance: https://numpy.org/devdocs/release/1.20.0-notes.html#deprecations\n",
      "  Y0 = data.variables[variable][:]\n"
     ]
    },
    {
     "name": "stdout",
     "output_type": "stream",
     "text": [
      "0.0 534.2644988029234 81.52490301851286 0.0\n",
      "4 4 4 28\n"
     ]
    },
    {
     "name": "stderr",
     "output_type": "stream",
     "text": [
      "/tmp/ipykernel_532622/3677473921.py:46: DeprecationWarning: `np.bool` is a deprecated alias for the builtin `bool`. To silence this warning, use `bool` by itself. Doing this will not modify any behavior and is safe. If you specifically wanted the numpy scalar type, use `np.bool_` here.\n",
      "Deprecated in NumPy 1.20; for more details and guidance: https://numpy.org/devdocs/release/1.20.0-notes.html#deprecations\n",
      "  Y0 = data.variables[variable][:]\n"
     ]
    },
    {
     "name": "stdout",
     "output_type": "stream",
     "text": [
      "/gpfs/fs7/dfo/hpcmc/comda/stod000/RUN_DIR/Auto-restart/CREG025_LIM3_CANOE/CREG025_LIM3_CANOE-VJC016f/CDF/CREG025_LIM3_CANOE-VJC016f_5d_ptrc_T_20170205-20170209.nc\n",
      "/gpfs/fs7/dfo/hpcmc/comda/stod000/RUN_DIR/Auto-restart/CREG025_LIM3_CANOE/CREG025_LIM3_CANOE-VJC016f/CDF/CREG025_LIM3_CANOE-VJC016f_5d_ptrc_T_20170210-20170214.nc\n",
      "/gpfs/fs7/dfo/hpcmc/comda/stod000/RUN_DIR/Auto-restart/CREG025_LIM3_CANOE/CREG025_LIM3_CANOE-VJC016f/CDF/CREG025_LIM3_CANOE-VJC016f_5d_ptrc_T_20170215-20170219.nc\n",
      "/gpfs/fs7/dfo/hpcmc/comda/stod000/RUN_DIR/Auto-restart/CREG025_LIM3_CANOE/CREG025_LIM3_CANOE-VJC016f/CDF/CREG025_LIM3_CANOE-VJC016f_5d_ptrc_T_20170220-20170224.nc\n",
      "/gpfs/fs7/dfo/hpcmc/comda/stod000/RUN_DIR/Auto-restart/CREG025_LIM3_CANOE/CREG025_LIM3_CANOE-VJC016f/CDF/CREG025_LIM3_CANOE-VJC016f_5d_ptrc_T_20170225-20170301.nc\n",
      "0.0 560.3854282924107 82.02055916995964 0.0\n",
      "1 6 0 31\n",
      "/gpfs/fs7/dfo/hpcmc/comda/stod000/RUN_DIR/Auto-restart/CREG025_LIM3_CANOE/CREG025_LIM3_CANOE-VJC016f/CDF/CREG025_LIM3_CANOE-VJC016f_5d_ptrc_T_20170302-20170306.nc\n",
      "/gpfs/fs7/dfo/hpcmc/comda/stod000/RUN_DIR/Auto-restart/CREG025_LIM3_CANOE/CREG025_LIM3_CANOE-VJC016f/CDF/CREG025_LIM3_CANOE-VJC016f_5d_ptrc_T_20170307-20170311.nc\n",
      "/gpfs/fs7/dfo/hpcmc/comda/stod000/RUN_DIR/Auto-restart/CREG025_LIM3_CANOE/CREG025_LIM3_CANOE-VJC016f/CDF/CREG025_LIM3_CANOE-VJC016f_5d_ptrc_T_20170312-20170316.nc\n",
      "/gpfs/fs7/dfo/hpcmc/comda/stod000/RUN_DIR/Auto-restart/CREG025_LIM3_CANOE/CREG025_LIM3_CANOE-VJC016f/CDF/CREG025_LIM3_CANOE-VJC016f_5d_ptrc_T_20170317-20170321.nc\n",
      "/gpfs/fs7/dfo/hpcmc/comda/stod000/RUN_DIR/Auto-restart/CREG025_LIM3_CANOE/CREG025_LIM3_CANOE-VJC016f/CDF/CREG025_LIM3_CANOE-VJC016f_5d_ptrc_T_20170322-20170326.nc\n",
      "/gpfs/fs7/dfo/hpcmc/comda/stod000/RUN_DIR/Auto-restart/CREG025_LIM3_CANOE/CREG025_LIM3_CANOE-VJC016f/CDF/CREG025_LIM3_CANOE-VJC016f_5d_ptrc_T_20170327-20170331.nc\n",
      "0.0 576.3662109375 82.44245412038711 0.0\n",
      "0 6 0 30\n",
      "/gpfs/fs7/dfo/hpcmc/comda/stod000/RUN_DIR/Auto-restart/CREG025_LIM3_CANOE/CREG025_LIM3_CANOE-VJC016f/CDF/CREG025_LIM3_CANOE-VJC016f_5d_ptrc_T_20170401-20170405.nc\n",
      "/gpfs/fs7/dfo/hpcmc/comda/stod000/RUN_DIR/Auto-restart/CREG025_LIM3_CANOE/CREG025_LIM3_CANOE-VJC016f/CDF/CREG025_LIM3_CANOE-VJC016f_5d_ptrc_T_20170406-20170410.nc\n",
      "/gpfs/fs7/dfo/hpcmc/comda/stod000/RUN_DIR/Auto-restart/CREG025_LIM3_CANOE/CREG025_LIM3_CANOE-VJC016f/CDF/CREG025_LIM3_CANOE-VJC016f_5d_ptrc_T_20170411-20170415.nc\n",
      "/gpfs/fs7/dfo/hpcmc/comda/stod000/RUN_DIR/Auto-restart/CREG025_LIM3_CANOE/CREG025_LIM3_CANOE-VJC016f/CDF/CREG025_LIM3_CANOE-VJC016f_5d_ptrc_T_20170416-20170420.nc\n",
      "/gpfs/fs7/dfo/hpcmc/comda/stod000/RUN_DIR/Auto-restart/CREG025_LIM3_CANOE/CREG025_LIM3_CANOE-VJC016f/CDF/CREG025_LIM3_CANOE-VJC016f_5d_ptrc_T_20170421-20170425.nc\n",
      "/gpfs/fs7/dfo/hpcmc/comda/stod000/RUN_DIR/Auto-restart/CREG025_LIM3_CANOE/CREG025_LIM3_CANOE-VJC016f/CDF/CREG025_LIM3_CANOE-VJC016f_5d_ptrc_T_20170426-20170430.nc\n",
      "0.0 572.0957275390625 82.72145737235869 0.0\n",
      "0 6 1 31\n",
      "/gpfs/fs7/dfo/hpcmc/comda/stod000/RUN_DIR/Auto-restart/CREG025_LIM3_CANOE/CREG025_LIM3_CANOE-VJC016f/CDF/CREG025_LIM3_CANOE-VJC016f_5d_ptrc_T_20170501-20170505.nc\n",
      "/gpfs/fs7/dfo/hpcmc/comda/stod000/RUN_DIR/Auto-restart/CREG025_LIM3_CANOE/CREG025_LIM3_CANOE-VJC016f/CDF/CREG025_LIM3_CANOE-VJC016f_5d_ptrc_T_20170506-20170510.nc\n",
      "/gpfs/fs7/dfo/hpcmc/comda/stod000/RUN_DIR/Auto-restart/CREG025_LIM3_CANOE/CREG025_LIM3_CANOE-VJC016f/CDF/CREG025_LIM3_CANOE-VJC016f_5d_ptrc_T_20170511-20170515.nc\n",
      "/gpfs/fs7/dfo/hpcmc/comda/stod000/RUN_DIR/Auto-restart/CREG025_LIM3_CANOE/CREG025_LIM3_CANOE-VJC016f/CDF/CREG025_LIM3_CANOE-VJC016f_5d_ptrc_T_20170516-20170520.nc\n",
      "/gpfs/fs7/dfo/hpcmc/comda/stod000/RUN_DIR/Auto-restart/CREG025_LIM3_CANOE/CREG025_LIM3_CANOE-VJC016f/CDF/CREG025_LIM3_CANOE-VJC016f_5d_ptrc_T_20170521-20170525.nc\n",
      "/gpfs/fs7/dfo/hpcmc/comda/stod000/RUN_DIR/Auto-restart/CREG025_LIM3_CANOE/CREG025_LIM3_CANOE-VJC016f/CDF/CREG025_LIM3_CANOE-VJC016f_5d_ptrc_T_20170526-20170530.nc\n",
      "/gpfs/fs7/dfo/hpcmc/comda/stod000/RUN_DIR/Auto-restart/CREG025_LIM3_CANOE/CREG025_LIM3_CANOE-VJC016f/CDF/CREG025_LIM3_CANOE-VJC016f_5d_ptrc_T_20170531-20170604.nc\n",
      "0.0 553.2596376480594 82.73367006269807 0.0\n",
      "4 5 1 30\n",
      "/gpfs/fs7/dfo/hpcmc/comda/stod000/RUN_DIR/Auto-restart/CREG025_LIM3_CANOE/CREG025_LIM3_CANOE-VJC016f/CDF/CREG025_LIM3_CANOE-VJC016f_5d_ptrc_T_20170605-20170609.nc\n",
      "/gpfs/fs7/dfo/hpcmc/comda/stod000/RUN_DIR/Auto-restart/CREG025_LIM3_CANOE/CREG025_LIM3_CANOE-VJC016f/CDF/CREG025_LIM3_CANOE-VJC016f_5d_ptrc_T_20170610-20170614.nc\n",
      "/gpfs/fs7/dfo/hpcmc/comda/stod000/RUN_DIR/Auto-restart/CREG025_LIM3_CANOE/CREG025_LIM3_CANOE-VJC016f/CDF/CREG025_LIM3_CANOE-VJC016f_5d_ptrc_T_20170615-20170619.nc\n",
      "/gpfs/fs7/dfo/hpcmc/comda/stod000/RUN_DIR/Auto-restart/CREG025_LIM3_CANOE/CREG025_LIM3_CANOE-VJC016f/CDF/CREG025_LIM3_CANOE-VJC016f_5d_ptrc_T_20170620-20170624.nc\n",
      "/gpfs/fs7/dfo/hpcmc/comda/stod000/RUN_DIR/Auto-restart/CREG025_LIM3_CANOE/CREG025_LIM3_CANOE-VJC016f/CDF/CREG025_LIM3_CANOE-VJC016f_5d_ptrc_T_20170625-20170629.nc\n",
      "/gpfs/fs7/dfo/hpcmc/comda/stod000/RUN_DIR/Auto-restart/CREG025_LIM3_CANOE/CREG025_LIM3_CANOE-VJC016f/CDF/CREG025_LIM3_CANOE-VJC016f_5d_ptrc_T_20170630-20170704.nc\n",
      "0.0 502.9591094970703 82.19975112346316 0.0\n",
      "4 5 2 31\n",
      "/gpfs/fs7/dfo/hpcmc/comda/stod000/RUN_DIR/Auto-restart/CREG025_LIM3_CANOE/CREG025_LIM3_CANOE-VJC016f/CDF/CREG025_LIM3_CANOE-VJC016f_5d_ptrc_T_20170705-20170709.nc\n",
      "/gpfs/fs7/dfo/hpcmc/comda/stod000/RUN_DIR/Auto-restart/CREG025_LIM3_CANOE/CREG025_LIM3_CANOE-VJC016f/CDF/CREG025_LIM3_CANOE-VJC016f_5d_ptrc_T_20170710-20170714.nc\n",
      "/gpfs/fs7/dfo/hpcmc/comda/stod000/RUN_DIR/Auto-restart/CREG025_LIM3_CANOE/CREG025_LIM3_CANOE-VJC016f/CDF/CREG025_LIM3_CANOE-VJC016f_5d_ptrc_T_20170715-20170719.nc\n",
      "/gpfs/fs7/dfo/hpcmc/comda/stod000/RUN_DIR/Auto-restart/CREG025_LIM3_CANOE/CREG025_LIM3_CANOE-VJC016f/CDF/CREG025_LIM3_CANOE-VJC016f_5d_ptrc_T_20170720-20170724.nc\n",
      "/gpfs/fs7/dfo/hpcmc/comda/stod000/RUN_DIR/Auto-restart/CREG025_LIM3_CANOE/CREG025_LIM3_CANOE-VJC016f/CDF/CREG025_LIM3_CANOE-VJC016f_5d_ptrc_T_20170725-20170729.nc\n",
      "/gpfs/fs7/dfo/hpcmc/comda/stod000/RUN_DIR/Auto-restart/CREG025_LIM3_CANOE/CREG025_LIM3_CANOE-VJC016f/CDF/CREG025_LIM3_CANOE-VJC016f_5d_ptrc_T_20170730-20170803.nc\n",
      "0.0 466.7909683719758 80.94985544804491 0.0\n",
      "3 5 3 31\n",
      "/gpfs/fs7/dfo/hpcmc/comda/stod000/RUN_DIR/Auto-restart/CREG025_LIM3_CANOE/CREG025_LIM3_CANOE-VJC016f/CDF/CREG025_LIM3_CANOE-VJC016f_5d_ptrc_T_20170804-20170808.nc\n",
      "/gpfs/fs7/dfo/hpcmc/comda/stod000/RUN_DIR/Auto-restart/CREG025_LIM3_CANOE/CREG025_LIM3_CANOE-VJC016f/CDF/CREG025_LIM3_CANOE-VJC016f_5d_ptrc_T_20170809-20170813.nc\n",
      "/gpfs/fs7/dfo/hpcmc/comda/stod000/RUN_DIR/Auto-restart/CREG025_LIM3_CANOE/CREG025_LIM3_CANOE-VJC016f/CDF/CREG025_LIM3_CANOE-VJC016f_5d_ptrc_T_20170814-20170818.nc\n",
      "/gpfs/fs7/dfo/hpcmc/comda/stod000/RUN_DIR/Auto-restart/CREG025_LIM3_CANOE/CREG025_LIM3_CANOE-VJC016f/CDF/CREG025_LIM3_CANOE-VJC016f_5d_ptrc_T_20170819-20170823.nc\n",
      "/gpfs/fs7/dfo/hpcmc/comda/stod000/RUN_DIR/Auto-restart/CREG025_LIM3_CANOE/CREG025_LIM3_CANOE-VJC016f/CDF/CREG025_LIM3_CANOE-VJC016f_5d_ptrc_T_20170824-20170828.nc\n",
      "/gpfs/fs7/dfo/hpcmc/comda/stod000/RUN_DIR/Auto-restart/CREG025_LIM3_CANOE/CREG025_LIM3_CANOE-VJC016f/CDF/CREG025_LIM3_CANOE-VJC016f_5d_ptrc_T_20170829-20170902.nc\n",
      "0.0 461.1835228704637 79.61499811505742 0.0\n",
      "2 5 3 30\n",
      "/gpfs/fs7/dfo/hpcmc/comda/stod000/RUN_DIR/Auto-restart/CREG025_LIM3_CANOE/CREG025_LIM3_CANOE-VJC016f/CDF/CREG025_LIM3_CANOE-VJC016f_5d_ptrc_T_20170903-20170907.nc\n",
      "/gpfs/fs7/dfo/hpcmc/comda/stod000/RUN_DIR/Auto-restart/CREG025_LIM3_CANOE/CREG025_LIM3_CANOE-VJC016f/CDF/CREG025_LIM3_CANOE-VJC016f_5d_ptrc_T_20170908-20170912.nc\n",
      "/gpfs/fs7/dfo/hpcmc/comda/stod000/RUN_DIR/Auto-restart/CREG025_LIM3_CANOE/CREG025_LIM3_CANOE-VJC016f/CDF/CREG025_LIM3_CANOE-VJC016f_5d_ptrc_T_20170913-20170917.nc\n",
      "/gpfs/fs7/dfo/hpcmc/comda/stod000/RUN_DIR/Auto-restart/CREG025_LIM3_CANOE/CREG025_LIM3_CANOE-VJC016f/CDF/CREG025_LIM3_CANOE-VJC016f_5d_ptrc_T_20170918-20170922.nc\n",
      "/gpfs/fs7/dfo/hpcmc/comda/stod000/RUN_DIR/Auto-restart/CREG025_LIM3_CANOE/CREG025_LIM3_CANOE-VJC016f/CDF/CREG025_LIM3_CANOE-VJC016f_5d_ptrc_T_20170923-20170927.nc\n",
      "/gpfs/fs7/dfo/hpcmc/comda/stod000/RUN_DIR/Auto-restart/CREG025_LIM3_CANOE/CREG025_LIM3_CANOE-VJC016f/CDF/CREG025_LIM3_CANOE-VJC016f_5d_ptrc_T_20170928-20171002.nc\n",
      "0.0 430.9380777994792 78.91311667452032 0.0\n",
      "2 5 4 31\n"
     ]
    },
    {
     "name": "stdout",
     "output_type": "stream",
     "text": [
      "/gpfs/fs7/dfo/hpcmc/comda/stod000/RUN_DIR/Auto-restart/CREG025_LIM3_CANOE/CREG025_LIM3_CANOE-VJC016f/CDF/CREG025_LIM3_CANOE-VJC016f_5d_ptrc_T_20171003-20171007.nc\n",
      "/gpfs/fs7/dfo/hpcmc/comda/stod000/RUN_DIR/Auto-restart/CREG025_LIM3_CANOE/CREG025_LIM3_CANOE-VJC016f/CDF/CREG025_LIM3_CANOE-VJC016f_5d_ptrc_T_20171008-20171012.nc\n",
      "/gpfs/fs7/dfo/hpcmc/comda/stod000/RUN_DIR/Auto-restart/CREG025_LIM3_CANOE/CREG025_LIM3_CANOE-VJC016f/CDF/CREG025_LIM3_CANOE-VJC016f_5d_ptrc_T_20171013-20171017.nc\n",
      "/gpfs/fs7/dfo/hpcmc/comda/stod000/RUN_DIR/Auto-restart/CREG025_LIM3_CANOE/CREG025_LIM3_CANOE-VJC016f/CDF/CREG025_LIM3_CANOE-VJC016f_5d_ptrc_T_20171018-20171022.nc\n",
      "/gpfs/fs7/dfo/hpcmc/comda/stod000/RUN_DIR/Auto-restart/CREG025_LIM3_CANOE/CREG025_LIM3_CANOE-VJC016f/CDF/CREG025_LIM3_CANOE-VJC016f_5d_ptrc_T_20171023-20171027.nc\n",
      "/gpfs/fs7/dfo/hpcmc/comda/stod000/RUN_DIR/Auto-restart/CREG025_LIM3_CANOE/CREG025_LIM3_CANOE-VJC016f/CDF/CREG025_LIM3_CANOE-VJC016f_5d_ptrc_T_20171028-20171101.nc\n",
      "0.0 443.1983130670363 79.10919138171077 0.0\n",
      "1 5 4 30\n",
      "/gpfs/fs7/dfo/hpcmc/comda/stod000/RUN_DIR/Auto-restart/CREG025_LIM3_CANOE/CREG025_LIM3_CANOE-VJC016f/CDF/CREG025_LIM3_CANOE-VJC016f_5d_ptrc_T_20171102-20171106.nc\n",
      "/gpfs/fs7/dfo/hpcmc/comda/stod000/RUN_DIR/Auto-restart/CREG025_LIM3_CANOE/CREG025_LIM3_CANOE-VJC016f/CDF/CREG025_LIM3_CANOE-VJC016f_5d_ptrc_T_20171107-20171111.nc\n",
      "/gpfs/fs7/dfo/hpcmc/comda/stod000/RUN_DIR/Auto-restart/CREG025_LIM3_CANOE/CREG025_LIM3_CANOE-VJC016f/CDF/CREG025_LIM3_CANOE-VJC016f_5d_ptrc_T_20171112-20171116.nc\n",
      "/gpfs/fs7/dfo/hpcmc/comda/stod000/RUN_DIR/Auto-restart/CREG025_LIM3_CANOE/CREG025_LIM3_CANOE-VJC016f/CDF/CREG025_LIM3_CANOE-VJC016f_5d_ptrc_T_20171117-20171121.nc\n",
      "/gpfs/fs7/dfo/hpcmc/comda/stod000/RUN_DIR/Auto-restart/CREG025_LIM3_CANOE/CREG025_LIM3_CANOE-VJC016f/CDF/CREG025_LIM3_CANOE-VJC016f_5d_ptrc_T_20171122-20171126.nc\n",
      "/gpfs/fs7/dfo/hpcmc/comda/stod000/RUN_DIR/Auto-restart/CREG025_LIM3_CANOE/CREG025_LIM3_CANOE-VJC016f/CDF/CREG025_LIM3_CANOE-VJC016f_5d_ptrc_T_20171127-20171201.nc\n",
      "0.0 486.9180084228516 79.89788618845725 0.0\n",
      "1 6 0 31\n",
      "/gpfs/fs7/dfo/hpcmc/comda/stod000/RUN_DIR/Auto-restart/CREG025_LIM3_CANOE/CREG025_LIM3_CANOE-VJC016f/CDF/CREG025_LIM3_CANOE-VJC016f_5d_ptrc_T_20171202-20171206.nc\n",
      "/gpfs/fs7/dfo/hpcmc/comda/stod000/RUN_DIR/Auto-restart/CREG025_LIM3_CANOE/CREG025_LIM3_CANOE-VJC016f/CDF/CREG025_LIM3_CANOE-VJC016f_5d_ptrc_T_20171207-20171211.nc\n",
      "/gpfs/fs7/dfo/hpcmc/comda/stod000/RUN_DIR/Auto-restart/CREG025_LIM3_CANOE/CREG025_LIM3_CANOE-VJC016f/CDF/CREG025_LIM3_CANOE-VJC016f_5d_ptrc_T_20171212-20171216.nc\n",
      "/gpfs/fs7/dfo/hpcmc/comda/stod000/RUN_DIR/Auto-restart/CREG025_LIM3_CANOE/CREG025_LIM3_CANOE-VJC016f/CDF/CREG025_LIM3_CANOE-VJC016f_5d_ptrc_T_20171217-20171221.nc\n",
      "/gpfs/fs7/dfo/hpcmc/comda/stod000/RUN_DIR/Auto-restart/CREG025_LIM3_CANOE/CREG025_LIM3_CANOE-VJC016f/CDF/CREG025_LIM3_CANOE-VJC016f_5d_ptrc_T_20171222-20171226.nc\n",
      "/gpfs/fs7/dfo/hpcmc/comda/stod000/RUN_DIR/Auto-restart/CREG025_LIM3_CANOE/CREG025_LIM3_CANOE-VJC016f/CDF/CREG025_LIM3_CANOE-VJC016f_5d_ptrc_T_20171227-20171231.nc\n",
      "0.0 506.17025264616933 80.67883104914259 0.0\n",
      "/home/fid000/WORK7/ANALYSIS/model_evaluation/MonthlyMeans/O2/CREG025_LIM3_CANOE-VJC016f_monthly_O2.nc\n"
     ]
    }
   ],
   "source": [
    "# https://stackoverflow.com/questions/40554446/how-to-stop-execution-of-all-cells-in-jupyter-notebook\n",
    "# from https://stackoverflow.com/questions/24005221/ipython-notebook-early-exit-from-cell?rq=3\n",
    "class StopExecution(Exception):\n",
    "    def _render_traceback_(self):\n",
    "        return []\n",
    "\n",
    "variable='O2'\n",
    "variants = ['016f']\n",
    "#variants=['i','j','k','l']#,'e','f','g']\n",
    "#variants=['l','m','n','o','p','q','r','s','t','u','v','w','x','y','z']\n",
    "for asuff in variants:\n",
    "    runid='CREG025_LIM3_CANOE-VJC'+asuff\n",
    "    #runid='CREG025_LIM3_CANOE-VJC015'+asuff\n",
    "    print(runid)\n",
    "    data_all=np.zeros((12,nz,ny,nx))\n",
    "\n",
    "    flist = glob.glob(\"/gpfs/fs7/dfo/hpcmc/comda/stod000/RUN_DIR/Auto-restart/CREG025_LIM3_CANOE/\"+runid+\"/CDF/\"\n",
    "                      +runid+\"_5d_ptrc_T_2017*.nc\")\n",
    "    flist.sort()\n",
    "    \n",
    "    ifile=0\n",
    "    imon=0\n",
    "\n",
    "    for mmon in ['jan','feb','mar','apr','may','jun','jul','aug','sep','oct','nov','dec']:\n",
    "        xb=timedata[mmon][0]     # days before (shared with previous month)\n",
    "        x5=timedata[mmon][1]     # number of 5 day blocks\n",
    "        xa=timedata[mmon][2]     # days after (shared with next month)\n",
    "        xtot=timedata[mmon][3]\n",
    "\n",
    "        print(xb,x5,xa,xtot)\n",
    "        if (5*x5+xb+xa)!=xtot:\n",
    "            raise StopExecution(\"Numbers do not add up\")\n",
    "\n",
    "        X=np.zeros((nz,ny,nx))\n",
    "\n",
    "        if (xb==0):\n",
    "            filein = flist[ifile]\n",
    "            print(filein)\n",
    "            data = Dataset(filein, \"r\", format=\"NETCDF4\")\n",
    "            Y0 = data.variables[variable][:]\n",
    "    # https://www.educative.io/answers/how-to-get-the-data-of-a-masked-array-as-an-ndarray\n",
    "            Y1 = ma.getdata(Y0).squeeze()\n",
    "            X = X+Y1*M*5.\n",
    "            x5=x5-1        # decrement x5 to account for reading a file here\n",
    "        else:\n",
    "            Y0 = data.variables[variable][:]\n",
    "            Y1 = ma.getdata(Y0).squeeze()\n",
    "            X = X+Y1*M*float(xb)\n",
    "\n",
    "        for i5 in np.arange(x5):\n",
    "            ifile=ifile+1\n",
    "            filein = flist[ifile]\n",
    "            print(filein)\n",
    "            data = Dataset(filein, \"r\", format=\"NETCDF4\")\n",
    "            Y0 = data.variables[variable][:]\n",
    "            Y1 = ma.getdata(Y0).squeeze()\n",
    "            X = X+Y1*M*5.\n",
    "\n",
    "        ifile=ifile+1\n",
    "        if (xa>0):\n",
    "            filein = flist[ifile]\n",
    "            print(filein)\n",
    "            data = Dataset(filein, \"r\", format=\"NETCDF4\")\n",
    "            Y0 = data.variables[variable][:]\n",
    "            Y1 = ma.getdata(Y0).squeeze()\n",
    "            X = X+Y1*M*float(xa)\n",
    "\n",
    "        X=X/float(xtot)\n",
    "        print( np.min(X), np.max(X), np.mean(X), np.median(X))\n",
    "\n",
    "        data_all[imon,:,:,:] = X\n",
    "        imon=imon+1   \n",
    "        \n",
    "    \n",
    "\n",
    "    mdv=1.e20\n",
    "    M4 = M + data_all*0.\n",
    "    data_all=data_all+(1.-M4)*mdv\n",
    "    \n",
    "    fileout='/home/fid000/WORK7/ANALYSIS/model_evaluation/MonthlyMeans/O2/'+runid+'_monthly_'+variable+'.nc'\n",
    "    print(fileout)\n",
    "\n",
    "    fx = Dataset(fileout, \"w\", format=\"NETCDF4\")\n",
    "    x = fx.createDimension(\"x\", nx);\n",
    "    y = fx.createDimension(\"y\", ny);\n",
    "    z = fx.createDimension(\"z\", nz);\n",
    "    time = fx.createDimension(\"time\", 12);\n",
    "\n",
    "    lat = fx.createVariable('nav_lat', np.float32, ('y','x'))\n",
    "    lat.units = 'degrees_north'\n",
    "    lat.long_name = 'latitude'\n",
    "\n",
    "    lon = fx.createVariable('nav_lon', np.float32, ('y','x'))\n",
    "    lon.units = 'degrees_east'\n",
    "    lon.long_name = 'longitude'\n",
    "\n",
    "    depth = fx.createVariable('level', np.float32, ('z',))\n",
    "    depth.units = 'm'\n",
    "    depth.long_name = 'level'\n",
    "\n",
    "    time = fx.createVariable('time', np.float32, ('time',))\n",
    "    time.units = 'months'\n",
    "    time.long_name = 'time'\n",
    "\n",
    "    data = fx.createVariable(variable, np.float32, ('time','z','y','x'), fill_value=mdv)\n",
    "    data.units = vunit\n",
    "    data.long_name = variable\n",
    "    #data._FillValue = mdv\n",
    "\n",
    "    lon[:,:]=xlon; lat[:,:]=xlat; depth[:]=xdpth; time[:]=t12\n",
    "    data[:,:,:,:]=data_all\n",
    "\n",
    "    fx.close()"
   ]
  },
  {
   "cell_type": "code",
   "execution_count": null,
   "id": "2fe792cc",
   "metadata": {},
   "outputs": [],
   "source": []
  },
  {
   "cell_type": "code",
   "execution_count": null,
   "id": "48fc4ac2",
   "metadata": {},
   "outputs": [],
   "source": []
  },
  {
   "cell_type": "code",
   "execution_count": null,
   "id": "bcaa6462",
   "metadata": {},
   "outputs": [],
   "source": []
  },
  {
   "cell_type": "code",
   "execution_count": null,
   "id": "e80e503a",
   "metadata": {},
   "outputs": [],
   "source": []
  }
 ],
 "metadata": {
  "kernelspec": {
   "display_name": "Python 3 (ipykernel)",
   "language": "python",
   "name": "python3"
  },
  "language_info": {
   "codemirror_mode": {
    "name": "ipython",
    "version": 3
   },
   "file_extension": ".py",
   "mimetype": "text/x-python",
   "name": "python",
   "nbconvert_exporter": "python",
   "pygments_lexer": "ipython3",
   "version": "3.8.5"
  }
 },
 "nbformat": 4,
 "nbformat_minor": 5
}
